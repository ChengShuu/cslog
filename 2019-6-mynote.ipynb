{
 "cells": [
  {
   "cell_type": "markdown",
   "metadata": {},
   "source": [
    "# 2019-6"
   ]
  },
  {
   "cell_type": "markdown",
   "metadata": {},
   "source": [
    "#### 2019-6-10 \n",
    "- LaTex\n",
    "    - 调整pdf格式的图片大小：pdfcrop pdfname  or pdfcrop pdfname.pdf\n",
    "    - 查看代码是否能成功编译：(进入文件主目录)\n",
    "        - 1.latexmk -c \\\\\n",
    "        - 2.latexmk -pdfxe -synctex=1 main\n",
    "- gmt\n",
    "    - netcdf.tar.bz2( + zlib + HDF5) \n",
    "    - gmt-4.5.9.tar.bz2 (GMT) \n",
    "    - GSHHS2.1.1\\_full.tar.bz2 (海岸线)\n",
    "    - 下载网址：\t\t\n",
    "    \n",
    "        - HDF5：https://www.hdfgroup.org/downloads/hdf5/source-code/\n",
    "        - netcdf：https://www.unidata.ucar.edu/software/netcdf/ \n",
    "\t\t- gmt：ftp://ftp.soest.hawaii.edu/gmt \t\t\n",
    "\t\t- 安装：https://www.unidata.ucar.edu/software/netcdf/docs/getting_and_building_netcdf.html\n",
    "\t\t\t\t\t\t\t\t\n",
    "- 傲梅分区助手\t\n",
    "\n",
    "- GitHub\n",
    "    - 查看当前目录中的文件 ls -ah\n",
    "    - 查看文件内容 cat filename\n",
    "    - https://www.liaoxuefeng.com/wiki/896043488029600\n",
    "    - https://www.yiibai.com/git/git_init.html\n",
    "    - 为现有的代码库启动一个新的Git仓库:\n",
    "        - 初始化一个Git仓库\n",
    "            - 使用git init命令\n",
    "        - 添加文件到Git仓库，分两步：\n",
    "            - 使用命令git add <file>，注意，可反复多次使用，添加多个文件；\n",
    "            - 使用命令git commit -m <\"a commit message\">，完成\n",
    "    \n",
    "    - HEAD指向的版本就是当前版本，因此，Git允许我们在版本的历史之间穿梭，使用命令git reset --hard commit_id。\n",
    "    - 穿梭前，用 git log 可以查看提交历史，以便确定要回退到哪个版本。\n",
    "    - 要重返未来，用 git reflog 查看命令历史，以便确定要回到未来的哪个版本。\n",
    "    - git status\n",
    "    - 第一次修改 -> git add -> 第二次修改 -> git add -> git commit\n",
    "    - git checkout -- file   可以丢弃工作区的修改\n",
    "    - git reset HEAD <file>  可以把暂存区的修改撤销掉（unstage）\n",
    "    - 场景1：当你改乱了工作区某个文件的内容，想直接丢弃工作区的修改时，用命令git checkout -- file。\n",
    "    - 场景2：当你不但改乱了工作区某个文件的内容，还添加到了暂存区时，想丢弃修改，分两步，第一步用命令git reset HEAD <file>，就回到了场景1，第二步按场景1操作。\n",
    "    - 场景3：已经提交了不合适的修改到版本库时，想要撤销本次提交，参考版本回退一节，不过前提是没有推送到远程库。\n",
    "    - 命令git rm用于删除一个文件。如果一个文件已经被提交到版本库，那么你永远不用担心误删，但是要小心，你只能恢复文件到最新版本，你会丢失最近一次提交后你修改的内容。\n",
    "    - 要关联一个远程库，使用命令git remote add origin git@server-name:path/repo-name.git；\n",
    "    - 关联后，使用命令git push -u origin master第一次推送master分支的所有内容；\n",
    "    - 此后，每次本地提交后，只要有必要，就可以使用命令git push origin master推送最新修改；\n",
    "\n",
    "    - git clone git@github.com:ChengShuu/Repository_name\n",
    "    \n",
    "    - 先关联GitHub的远程库  git remote add github git@github.com:michaelliao/learngit.git\n",
    "    - 再关联码云的远程库     git remote add gitee git@gitee.com:liaoxuefeng/learngit.git\n",
    "    - git remote -v\n",
    "    - 要推送到GitHub     git push github master\n",
    "    - 推送到码云         git push gitee master"
   ]
  },
  {
   "cell_type": "markdown",
   "metadata": {},
   "source": []
  }
 ],
 "metadata": {
  "kernelspec": {
   "display_name": "Python 3",
   "language": "python",
   "name": "python3"
  },
  "language_info": {
   "codemirror_mode": {
    "name": "ipython",
    "version": 3
   },
   "file_extension": ".py",
   "mimetype": "text/x-python",
   "name": "python",
   "nbconvert_exporter": "python",
   "pygments_lexer": "ipython3",
   "version": "3.6.8"
  }
 },
 "nbformat": 4,
 "nbformat_minor": 2
}
